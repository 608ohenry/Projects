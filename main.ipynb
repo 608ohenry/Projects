{
 "cells": [
  {
   "cell_type": "code",
   "execution_count": 84,
   "id": "131d1834",
   "metadata": {},
   "outputs": [],
   "source": [
    "#project:p11\n",
    "#partner:none\n",
    "#submitter:ohenry\n",
    "#hours:6\n",
    "\n",
    "import os\n",
    "import json\n",
    "import csv\n",
    "from collections import namedtuple\n",
    "\n",
    "Tweet=namedtuple(\"Tweet\",[\"tweet_id\",\"username\",\"num_liked\",\"length\"])\n",
    "\n",
    "\n",
    "\n",
    "def tweetsinjson(file):\n",
    "    \n",
    "    example_file = open(file)\n",
    "    try:\n",
    "        tweetdata=json.load(example_file)\n",
    "    \n",
    "        tweet_list=[]\n",
    "        for x in tweetdata:\n",
    "            idn=x\n",
    "            usn=tweetdata[x][\"username\"]\n",
    "            tweettext=len(tweetdata[x][\"tweet_text\"])\n",
    "            likes=tweetdata[x][\"num_liked\"]\n",
    "\n",
    "            if type(likes)==str:\n",
    "                if likes==\"unkown\":\n",
    "                    likes=\"0\"\n",
    "                if \"M\" in likes:\n",
    "\n",
    "                    likes=int(tweetdata[x][\"num_liked\"][:-1])*1000000\n",
    "                elif tweetdata[x][\"num_liked\"][-1]==\"k\":\n",
    "\n",
    "                    likes=int(tweetdata[x][\"num_liked\"][:-1])*1000\n",
    "            likes=int(likes)\n",
    "\n",
    "            tupletweet=Tweet(idn,usn,likes,tweettext)\n",
    "            tweet_list.append(tupletweet)\n",
    "    except:\n",
    "        tweet_list=[]\n",
    "    return tweet_list\n",
    "\n",
    "def tweetsincsv(file):\n",
    "    csv_rows = process_csv(file)\n",
    "    csv_header = csv_rows[0]\n",
    "    csv_data = csv_rows[1:]\n",
    "    tweetlist=[]\n",
    "    \n",
    "    for x in csv_data:\n",
    "        if len(x)!=6:\n",
    "            continue\n",
    "        idn=x[0]\n",
    "        user=x[2]\n",
    "        if \"K\" in x[3]:\n",
    "            likes=int(x[3])[:-1]*1000\n",
    "        elif \"M\" in x[3]:\n",
    "            likes=int(x[3])[:-1]*1000000\n",
    "        else:\n",
    "            likes=int(x[3])\n",
    "        tweetlen=len(x[4])\n",
    "        tweet=Tweet(idn,user,likes,tweetlen)\n",
    "        \n",
    "        tweetlist.append(tweet)\n",
    "    return tweetlist\n",
    "\n",
    "def allTweetsIn(directory):\n",
    "    files=pathfinder(directory)\n",
    "    \n",
    "    bigtweetlist=[]\n",
    "    for x in files:\n",
    "        if \".csv\" in x:  \n",
    "            tw=tweetsincsv(x)\n",
    "        elif \".json\" in x: \n",
    "            tw=tweetsinjson(x)\n",
    "        else:\n",
    "            tw=[]\n",
    "        bigtweetlist.append(tw)\n",
    "   \n",
    "    return bigtweetlist\n",
    "\n",
    "def pathfinder(filename):\n",
    "    if os.path.isfile(filename):\n",
    "        return filename\n",
    "    samplefiles=os.listdir(filename)\n",
    "    paths=[]\n",
    "    for x in samplefiles:\n",
    "        path=os.path.join(filename,x)\n",
    "        paths.append(path)\n",
    "    return paths\n",
    "\n",
    "def process_csv(filename):\n",
    "    example_file = open(filename, encoding=\"utf-8\")\n",
    "    example_reader = csv.reader(example_file)\n",
    "    example_data = list(example_reader)\n",
    "    example_file.close()\n",
    "    return example_data\n"
   ]
  },
  {
   "cell_type": "code",
   "execution_count": 85,
   "id": "35c98a14",
   "metadata": {},
   "outputs": [
    {
     "data": {
      "text/plain": [
       "131"
      ]
     },
     "execution_count": 85,
     "metadata": {},
     "output_type": "execute_result"
    }
   ],
   "source": [
    "#q1\n",
    "totTweets=allTweetsIn(\"full_data\")\n",
    "lendict={}\n",
    "for tlist in totTweets:\n",
    "    for tweets in tlist:\n",
    "        if tweets.length not in lendict:\n",
    "            lendict[tweets.length]=0\n",
    "        if tweets.length in lendict:\n",
    "            lendict[tweets.length]+=1\n",
    "            \n",
    "len(lendict)"
   ]
  },
  {
   "cell_type": "code",
   "execution_count": 86,
   "id": "0d06f62b",
   "metadata": {},
   "outputs": [
    {
     "data": {
      "text/plain": [
       "['USERID_9',\n",
       " 'USERID_3',\n",
       " 'USERID_4',\n",
       " 'USERID_8',\n",
       " 'USERID_2',\n",
       " 'USERID_10',\n",
       " 'USERID_1',\n",
       " 'USERID_7',\n",
       " 'USERID_6',\n",
       " 'USERID_5']"
      ]
     },
     "execution_count": 86,
     "metadata": {},
     "output_type": "execute_result"
    }
   ],
   "source": [
    "#q2\n",
    "usernames=[]\n",
    "for tlist in totTweets:\n",
    "    for tweets in tlist:\n",
    "        if tweets.username not in usernames:\n",
    "            usernames.append(tweets.username)\n",
    "            \n",
    "usernames"
   ]
  },
  {
   "cell_type": "code",
   "execution_count": 87,
   "id": "9034f18f",
   "metadata": {},
   "outputs": [
    {
     "data": {
      "text/plain": [
       "{'USERID_9': 44,\n",
       " 'USERID_3': 39,\n",
       " 'USERID_4': 35,\n",
       " 'USERID_8': 31,\n",
       " 'USERID_2': 47,\n",
       " 'USERID_10': 45,\n",
       " 'USERID_1': 52,\n",
       " 'USERID_7': 55,\n",
       " 'USERID_6': 51,\n",
       " 'USERID_5': 46}"
      ]
     },
     "execution_count": 87,
     "metadata": {},
     "output_type": "execute_result"
    }
   ],
   "source": [
    "#q3\n",
    "def assignUsers(largeSet):\n",
    "    prolificUserBucket={}\n",
    "    for tlist in largeSet:\n",
    "\n",
    "        for tweets in tlist:\n",
    "            \n",
    "            if tweets.username not in prolificUserBucket:\n",
    "                prolificUserBucket[tweets.username]=[]\n",
    "            if tweets.username in prolificUserBucket:\n",
    "                prolificUserBucket[tweets.username].append(tweets)\n",
    "    return prolificUserBucket\n",
    "prolificUserBucket=assignUsers(totTweets)\n",
    "def prolifUser(bigBucket):\n",
    "    \n",
    "    prolificUsers={}\n",
    "    for p in bigBucket:\n",
    "        if p not in prolificUsers:\n",
    "            prolificUsers[p]=0\n",
    "        if p in prolificUsers:\n",
    "            prolificUsers[p]=len(bigBucket[p])  \n",
    "    return prolificUsers\n",
    "\n",
    "prolificUsers=prolifUser(prolificUserBucket)\n",
    "prolificUsers"
   ]
  },
  {
   "cell_type": "code",
   "execution_count": 88,
   "id": "a0b728e9",
   "metadata": {},
   "outputs": [
    {
     "data": {
      "text/plain": [
       "{'USERID_9': 137,\n",
       " 'USERID_3': 138,\n",
       " 'USERID_4': 138,\n",
       " 'USERID_8': 145,\n",
       " 'USERID_2': 138,\n",
       " 'USERID_10': 136,\n",
       " 'USERID_1': 150,\n",
       " 'USERID_7': 144,\n",
       " 'USERID_6': 145,\n",
       " 'USERID_5': 146}"
      ]
     },
     "execution_count": 88,
     "metadata": {},
     "output_type": "execute_result"
    }
   ],
   "source": [
    "#q4\n",
    "lengthBuckets={}\n",
    "for x in prolificUserBucket:\n",
    "    for element in prolificUserBucket[x]:\n",
    "        if x not in lengthBuckets:\n",
    "            lengthBuckets[x]=0\n",
    "        if element.length>lengthBuckets[x]:\n",
    "            lengthBuckets[x]=element.length\n",
    "            \n",
    "lengthBuckets"
   ]
  },
  {
   "cell_type": "code",
   "execution_count": 89,
   "id": "fcf55e44",
   "metadata": {},
   "outputs": [
    {
     "data": {
      "text/plain": [
       "{'USERID_9': 9728,\n",
       " 'USERID_3': 9678,\n",
       " 'USERID_4': 9618,\n",
       " 'USERID_8': 915000,\n",
       " 'USERID_2': 869000000,\n",
       " 'USERID_10': 9936,\n",
       " 'USERID_1': 9393,\n",
       " 'USERID_7': 9851,\n",
       " 'USERID_6': 9149,\n",
       " 'USERID_5': 9608}"
      ]
     },
     "execution_count": 89,
     "metadata": {},
     "output_type": "execute_result"
    }
   ],
   "source": [
    "#q5\n",
    "\n",
    "def likeBucket(bucket):\n",
    "    likeD={}\n",
    "    for x in bucket:\n",
    "        for element in bucket[x]:\n",
    "            if x not in likeD:\n",
    "                likeD[x]=0\n",
    "            if element.num_liked>likeD[x]:\n",
    "                likeD[x]=element.num_liked\n",
    "\n",
    "    return likeD\n",
    "likeDict=likeBucket(prolificUserBucket)\n",
    "likeDict"
   ]
  },
  {
   "cell_type": "code",
   "execution_count": 90,
   "id": "be0a6d5e",
   "metadata": {},
   "outputs": [
    {
     "data": {
      "image/png": "[encoded data removed]",
      "text/plain": [
       "<Figure size 432x288 with 1 Axes>"
      ]
     },
     "metadata": {
      "needs_background": "light"
     },
     "output_type": "display_data"
    }
   ],
   "source": [
    "#q6\n",
    "import pandas as pd\n",
    "\n",
    "def scatter(x, y, xlabel=\"please label me!\", ylabel=\"please label me!\"):\n",
    "    df = pd.DataFrame({\"x\":x, \"y\":y})\n",
    "    ax = df.plot.scatter(x=\"x\", y=\"y\", color=\"black\", fontsize=16, xlim=0, ylim=0)\n",
    "    ax.set_xlabel(xlabel, fontsize=16)\n",
    "    ax.set_ylabel(ylabel, fontsize=16)\n",
    "    ax.get_xaxis().get_major_formatter().set_scientific(False)\n",
    "    ax.get_yaxis().get_major_formatter().set_scientific(False)\n",
    "    \n",
    "scatter(prolificUsers,lengthBuckets, \"number of tweets\", \"length\")"
   ]
  },
  {
   "cell_type": "code",
   "execution_count": 91,
   "id": "852e1f06",
   "metadata": {},
   "outputs": [
    {
     "data": {
      "image/png": "[encoded data removed]",
      "text/plain": [
       "<Figure size 432x288 with 1 Axes>"
      ]
     },
     "metadata": {
      "needs_background": "light"
     },
     "output_type": "display_data"
    }
   ],
   "source": [
    "#q7\n",
    "scatter(prolificUsers, likeDict,\"number of tweets\", \"number of likes\")"
   ]
  },
  {
   "cell_type": "code",
   "execution_count": 92,
   "id": "b7f168d6",
   "metadata": {},
   "outputs": [
    {
     "data": {
      "image/png": "[encoded data removed]",
      "text/plain": [
       "<Figure size 432x288 with 1 Axes>"
      ]
     },
     "metadata": {
      "needs_background": "light"
     },
     "output_type": "display_data"
    }
   ],
   "source": [
    "#q8\n",
    "scatter(lengthBuckets,likeDict, \"longest tweet\", \"largest number of likes\")"
   ]
  },
  {
   "cell_type": "code",
   "execution_count": 93,
   "id": "69644aa8",
   "metadata": {},
   "outputs": [
    {
     "data": {
      "text/plain": [
       "'USERID_2'"
      ]
     },
     "execution_count": 93,
     "metadata": {},
     "output_type": "execute_result"
    }
   ],
   "source": [
    "#q9\n",
    "sortedLikes=sorted(likeDict, key=lambda p:likeDict[p])\n",
    "sortedLikes[-1]"
   ]
  },
  {
   "cell_type": "code",
   "execution_count": 94,
   "id": "64a37c01",
   "metadata": {},
   "outputs": [
    {
     "data": {
      "text/plain": [
       "[Tweet(tweet_id='1467894593', username='USERID_2', num_liked=869000000, length=136),\n",
       " Tweet(tweet_id='1467875163', username='USERID_2', num_liked=9891, length=69),\n",
       " Tweet(tweet_id='1467862806', username='USERID_2', num_liked=9465, length=68),\n",
       " Tweet(tweet_id='1467907751', username='USERID_2', num_liked=9048, length=110),\n",
       " Tweet(tweet_id='1467928764', username='USERID_2', num_liked=9026, length=41),\n",
       " Tweet(tweet_id='1467943007', username='USERID_2', num_liked=9000, length=130),\n",
       " Tweet(tweet_id='1467918682', username='USERID_2', num_liked=8884, length=102),\n",
       " Tweet(tweet_id='1467935121', username='USERID_2', num_liked=8740, length=37),\n",
       " Tweet(tweet_id='1467947913', username='USERID_2', num_liked=8578, length=36),\n",
       " Tweet(tweet_id='1467892667', username='USERID_2', num_liked=8270, length=20),\n",
       " Tweet(tweet_id='1467897316', username='USERID_2', num_liked=7890, length=64),\n",
       " Tweet(tweet_id='1467854917', username='USERID_2', num_liked=7741, length=30),\n",
       " Tweet(tweet_id='1467961106', username='USERID_2', num_liked=7552, length=65),\n",
       " Tweet(tweet_id='1467951252', username='USERID_2', num_liked=7515, length=48),\n",
       " Tweet(tweet_id='1467889988', username='USERID_2', num_liked=7394, length=51),\n",
       " Tweet(tweet_id='1467916959', username='USERID_2', num_liked=7081, length=69),\n",
       " Tweet(tweet_id='1467874916', username='USERID_2', num_liked=6935, length=23),\n",
       " Tweet(tweet_id='1467855981', username='USERID_2', num_liked=6455, length=92),\n",
       " Tweet(tweet_id='1467872247', username='USERID_2', num_liked=6316, length=137),\n",
       " Tweet(tweet_id='1467918850', username='USERID_2', num_liked=5383, length=103),\n",
       " Tweet(tweet_id='1467919055', username='USERID_2', num_liked=5370, length=68),\n",
       " Tweet(tweet_id='1467915670', username='USERID_2', num_liked=5287, length=138),\n",
       " Tweet(tweet_id='1467880442', username='USERID_2', num_liked=5125, length=96),\n",
       " Tweet(tweet_id='1467896253', username='USERID_2', num_liked=4906, length=91),\n",
       " Tweet(tweet_id='1467962897', username='USERID_2', num_liked=4898, length=98),\n",
       " Tweet(tweet_id='1467855812', username='USERID_2', num_liked=4806, length=28),\n",
       " Tweet(tweet_id='1467930220', username='USERID_2', num_liked=4770, length=94),\n",
       " Tweet(tweet_id='1467852031', username='USERID_2', num_liked=4565, length=63),\n",
       " Tweet(tweet_id='1467905378', username='USERID_2', num_liked=4420, length=111),\n",
       " Tweet(tweet_id='1467877833', username='USERID_2', num_liked=4270, length=89),\n",
       " Tweet(tweet_id='1467870866', username='USERID_2', num_liked=4166, length=82),\n",
       " Tweet(tweet_id='1467879984', username='USERID_2', num_liked=3694, length=69),\n",
       " Tweet(tweet_id='1467898511', username='USERID_2', num_liked=3477, length=99),\n",
       " Tweet(tweet_id='1467926632', username='USERID_2', num_liked=2602, length=98),\n",
       " Tweet(tweet_id='1467862213', username='USERID_2', num_liked=2455, length=138),\n",
       " Tweet(tweet_id='1467878633', username='USERID_2', num_liked=2351, length=33),\n",
       " Tweet(tweet_id='1467878971', username='USERID_2', num_liked=2238, length=27),\n",
       " Tweet(tweet_id='1467953090', username='USERID_2', num_liked=1896, length=64),\n",
       " Tweet(tweet_id='1467908798', username='USERID_2', num_liked=1659, length=51),\n",
       " Tweet(tweet_id='1467918015', username='USERID_2', num_liked=1508, length=97),\n",
       " Tweet(tweet_id='1467926444', username='USERID_2', num_liked=1394, length=61),\n",
       " Tweet(tweet_id='1467914499', username='USERID_2', num_liked=910, length=138),\n",
       " Tweet(tweet_id='1467968584', username='USERID_2', num_liked=777, length=132),\n",
       " Tweet(tweet_id='1467933102', username='USERID_2', num_liked=625, length=135),\n",
       " Tweet(tweet_id='1467953277', username='USERID_2', num_liked=494, length=31),\n",
       " Tweet(tweet_id='1467890222', username='USERID_2', num_liked=227, length=107),\n",
       " Tweet(tweet_id='1467871956', username='USERID_2', num_liked=110, length=68)]"
      ]
     },
     "execution_count": 94,
     "metadata": {},
     "output_type": "execute_result"
    }
   ],
   "source": [
    "#q10\n",
    "mostlikes=str(sortedLikes[-1])\n",
    "sortedlikes=sorted(prolificUserBucket[mostlikes], key=lambda p:p.num_liked, reverse=True)\n",
    "sortedlikes"
   ]
  },
  {
   "cell_type": "code",
   "execution_count": 95,
   "id": "176576d3",
   "metadata": {},
   "outputs": [
    {
     "data": {
      "text/plain": [
       "5003.56"
      ]
     },
     "execution_count": 95,
     "metadata": {},
     "output_type": "execute_result"
    }
   ],
   "source": [
    "#q11\n",
    "noOutlier=sortedlikes[1:]\n",
    "cnt=0\n",
    "tot=0\n",
    "for x in noOutlier:\n",
    "    tot+=x.num_liked\n",
    "    cnt+=1\n",
    "    \n",
    "int(tot/cnt*100)/100"
   ]
  },
  {
   "cell_type": "code",
   "execution_count": 96,
   "id": "1df7a2ec",
   "metadata": {},
   "outputs": [
    {
     "data": {
      "image/png": "[encoded data removed]",
      "text/plain": [
       "<Figure size 432x288 with 1 Axes>"
      ]
     },
     "metadata": {
      "needs_background": "light"
     },
     "output_type": "display_data"
    }
   ],
   "source": [
    "#q12\n",
    "def cleanUserBuck(ls):\n",
    "    prolificUserBucket={}\n",
    "    for tweets in ls:\n",
    "            if tweets.username not in prolificUserBucket:\n",
    "                prolificUserBucket[tweets.username]=[]\n",
    "            if tweets.username in prolificUserBucket:\n",
    "                prolificUserBucket[tweets.username].append(tweets)\n",
    "    return prolificUserBucket\n",
    "\n",
    "allTweetList=[]\n",
    "for tList in totTweets:\n",
    "    for twe in tList:\n",
    "        allTweetList.append(twe)\n",
    "sortAllTweets=sorted(allTweetList, key=lambda p:p.num_liked, reverse=True)\n",
    "\n",
    "def compareTo(exclusionNum):\n",
    "    dataUsed=sortAllTweets[(exclusionNum):]\n",
    "    \n",
    "    userBucks=cleanUserBuck(dataUsed)\n",
    "    \n",
    "    likeBucks=likeBucket(userBucks)\n",
    "    \n",
    "    proBucks=prolifUser(userBucks)\n",
    "    \n",
    "    scatter(proBucks,likeBucks,\"number of tweets\",\"largest number of likes\")\n",
    "compareTo(3) "
   ]
  },
  {
   "cell_type": "code",
   "execution_count": 97,
   "id": "db3dac2e",
   "metadata": {},
   "outputs": [
    {
     "data": {
      "image/png": "[encoded data removed]",
      "text/plain": [
       "<Figure size 432x288 with 1 Axes>"
      ]
     },
     "metadata": {
      "needs_background": "light"
     },
     "output_type": "display_data"
    }
   ],
   "source": [
    "#q13\n",
    "compareTo(20)"
   ]
  },
  {
   "cell_type": "code",
   "execution_count": 98,
   "id": "16e1b729",
   "metadata": {},
   "outputs": [
    {
     "data": {
      "text/plain": [
       "['play\\\\rb\\\\ppt.ppt', 'play\\\\rb\\\\rb9\\\\12.xls', 'play\\\\rb\\\\rb9\\\\89.csv']"
      ]
     },
     "execution_count": 98,
     "metadata": {},
     "output_type": "execute_result"
    }
   ],
   "source": [
    "#q14\n",
    "\n",
    "\n",
    "def pathList(directory):\n",
    "    try:\n",
    "        if directory[0]==\".\":\n",
    "            return None\n",
    "        newDir=os.listdir(directory)\n",
    "        fileList=[]\n",
    "        for x in newDir:\n",
    "            if x[0]==\".\":\n",
    "                return None\n",
    "            joined=os.path.join(directory,x)\n",
    "            if os.path.isdir(joined):\n",
    "                fileList+=pathList(joined)\n",
    "            if os.path.isfile(joined):\n",
    "                fileList.append(joined)\n",
    "        return sorted(fileList)\n",
    "    except:\n",
    "        print(\"file not found bro\")\n",
    "        \n",
    "playPaths=pathList(\"play\")\n",
    "rbList=[]\n",
    "for x in playPaths:\n",
    "    if \"rb\" in x:\n",
    "        rbList.append(x)\n",
    "        \n",
    "rbList"
   ]
  },
  {
   "cell_type": "code",
   "execution_count": 99,
   "id": "3a360436",
   "metadata": {},
   "outputs": [
    {
     "data": {
      "text/plain": [
       "['play\\\\ls\\\\qwe\\\\iuqwe.json', 'play\\\\ls\\\\qwe\\\\usun.pdf']"
      ]
     },
     "execution_count": 99,
     "metadata": {},
     "output_type": "execute_result"
    }
   ],
   "source": [
    "#q15\n",
    "qlsList=[]\n",
    "for x in playPaths:\n",
    "    if (\"qwe\" in x) and (\"ls\" in x):\n",
    "        qlsList.append(x)\n",
    "qlsList"
   ]
  },
  {
   "cell_type": "code",
   "execution_count": 100,
   "id": "0e38fb55",
   "metadata": {},
   "outputs": [
    {
     "data": {
      "text/plain": [
       "['play\\\\ls\\\\lu.txt',\n",
       " 'play\\\\ls\\\\mf.py',\n",
       " 'play\\\\ls\\\\qwe\\\\iuqwe.json',\n",
       " 'play\\\\ls\\\\qwe\\\\usun.pdf',\n",
       " 'play\\\\ou\\\\a',\n",
       " 'play\\\\ou\\\\b',\n",
       " 'play\\\\ou\\\\quap\\\\aoq\\\\aqnsa',\n",
       " 'play\\\\ou\\\\quap\\\\aoq\\\\qsonj',\n",
       " 'play\\\\ou\\\\quap\\\\qonxu.txt',\n",
       " 'play\\\\ou\\\\quap\\\\uikwe',\n",
       " 'play\\\\ou\\\\v',\n",
       " 'play\\\\rb\\\\ppt.ppt',\n",
       " 'play\\\\rb\\\\rb9\\\\12.xls',\n",
       " 'play\\\\rb\\\\rb9\\\\89.csv']"
      ]
     },
     "execution_count": 100,
     "metadata": {},
     "output_type": "execute_result"
    }
   ],
   "source": [
    "#q16\n",
    "playPaths"
   ]
  },
  {
   "cell_type": "code",
   "execution_count": 101,
   "id": "c4515c89",
   "metadata": {},
   "outputs": [
    {
     "data": {
      "text/plain": [
       "['recursive\\\\others\\\\USERID_10.json',\n",
       " 'recursive\\\\others\\\\USERID_5.json',\n",
       " 'recursive\\\\others\\\\USERID_6.json',\n",
       " 'recursive\\\\others\\\\USERID_7.json',\n",
       " 'recursive\\\\others\\\\USERID_8.json',\n",
       " 'recursive\\\\others\\\\USERID_9.json']"
      ]
     },
     "execution_count": 101,
     "metadata": {},
     "output_type": "execute_result"
    }
   ],
   "source": [
    "#q17\n",
    "recList=pathList(\"recursive\")\n",
    "otherList=[]\n",
    "for x in recList:\n",
    "    if \"others\" in x:\n",
    "        otherList.append(x)\n",
    "otherList"
   ]
  },
  {
   "cell_type": "code",
   "execution_count": 102,
   "id": "7f5a9607",
   "metadata": {},
   "outputs": [
    {
     "data": {
      "text/plain": [
       "['recursive\\\\USERID_1\\\\tweets.json',\n",
       " 'recursive\\\\USERID_2\\\\tweets.json',\n",
       " 'recursive\\\\USERID_3\\\\tweets.json',\n",
       " 'recursive\\\\USERID_4\\\\1.csv',\n",
       " 'recursive\\\\USERID_4\\\\1.json',\n",
       " 'recursive\\\\USERID_4\\\\2.csv',\n",
       " 'recursive\\\\USERID_4\\\\2.json',\n",
       " 'recursive\\\\USERID_4\\\\false\\\\tweets.json',\n",
       " 'recursive\\\\USERID_4\\\\true\\\\tweets.json',\n",
       " 'recursive\\\\others\\\\USERID_10.json',\n",
       " 'recursive\\\\others\\\\USERID_5.json',\n",
       " 'recursive\\\\others\\\\USERID_6.json',\n",
       " 'recursive\\\\others\\\\USERID_7.json',\n",
       " 'recursive\\\\others\\\\USERID_8.json',\n",
       " 'recursive\\\\others\\\\USERID_9.json']"
      ]
     },
     "execution_count": 102,
     "metadata": {},
     "output_type": "execute_result"
    }
   ],
   "source": [
    "#q18\n",
    "recList"
   ]
  },
  {
   "cell_type": "code",
   "execution_count": 109,
   "id": "ccfb4463",
   "metadata": {},
   "outputs": [
    {
     "data": {
      "text/plain": [
       "37"
      ]
     },
     "execution_count": 109,
     "metadata": {},
     "output_type": "execute_result"
    }
   ],
   "source": [
    "#q19\n",
    "user4files=[]\n",
    "for x in recList:\n",
    "    if \"USERID_4\" in x:\n",
    "        user4files.append(x)\n",
    "user4tweets=[]\n",
    "for x in user4files:\n",
    "    if \".csv\" in x:\n",
    "        user4tweets+=tweetsincsv(x)\n",
    "    if \".json\" in x:\n",
    "        user4tweets+=tweetsinjson(x)\n",
    "        \n",
    "len(user4tweets)"
   ]
  },
  {
   "cell_type": "code",
   "execution_count": 110,
   "id": "6b8132b5",
   "metadata": {},
   "outputs": [
    {
     "data": {
      "text/plain": [
       "220"
      ]
     },
     "execution_count": 110,
     "metadata": {},
     "output_type": "execute_result"
    }
   ],
   "source": [
    "#q20\n",
    "allT=[]\n",
    "for x in recList:\n",
    "    if \".csv\" in x:\n",
    "        allT+=tweetsincsv(x)\n",
    "    if \".json\" in x:\n",
    "        allT+=tweetsinjson(x)\n",
    "len(allT)"
   ]
  },
  {
   "cell_type": "code",
   "execution_count": null,
   "id": "ec498925",
   "metadata": {},
   "outputs": [],
   "source": []
  },
  {
   "cell_type": "code",
   "execution_count": null,
   "id": "ce4e8bdc",
   "metadata": {},
   "outputs": [],
   "source": []
  }
 ],
 "metadata": {
  "kernelspec": {
   "display_name": "Python 3",
   "language": "python",
   "name": "python3"
  },
  "language_info": {
   "codemirror_mode": {
    "name": "ipython",
    "version": 3
   },
   "file_extension": ".py",
   "mimetype": "text/x-python",
   "name": "python",
   "nbconvert_exporter": "python",
   "pygments_lexer": "ipython3",
   "version": "3.8.8"
  }
 },
 "nbformat": 4,
 "nbformat_minor": 5
}
